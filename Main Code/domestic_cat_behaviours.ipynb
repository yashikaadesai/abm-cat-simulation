{
 "cells": [
  {
   "cell_type": "markdown",
   "id": "122000d3-39bf-4cd6-ad77-e1478fb8b563",
   "metadata": {},
   "source": [
    "# Agent-Based Model on Cat Behavior\n",
    "\n",
    "### In our project we decided to create 4 total cats with several different traits ranging from hunger levels to personality traits\n",
    "### Based on the traits each cat has will determine their interactions with each other, objects in the room, and people who walk in the room\n"
   ]
  },
  {
   "cell_type": "code",
   "execution_count": 5,
   "id": "5a6800c2-4058-4eca-bc71-eae3e7cdf73e",
   "metadata": {},
   "outputs": [],
   "source": [
    "import random \n",
    "#might not need ^^\n",
    "import numpy as np\n",
    "import numpy.random as rand\n",
    "import matplotlib.pyplot as plt"
   ]
  },
  {
   "cell_type": "markdown",
   "id": "54a7e930-f0c2-4b80-b12e-3ff37e25e1e1",
   "metadata": {},
   "source": [
    "To start here is a legend of all potential personality traits and needs our cats may have."
   ]
  },
  {
   "cell_type": "code",
   "execution_count": 6,
   "id": "76c6b13e-9d86-4ddb-b853-807ce715a96a",
   "metadata": {},
   "outputs": [],
   "source": [
    "legend= {'Hunger' : \"Will go find food\",\n",
    "         'Sleep': \"Needs some sleep\",\n",
    "         'Calm' : 'Very relaxed',\n",
    "         'Clumsy' : 'Will tumble over and bump into things' ,\n",
    "         'Shy' : 'Takes a while to warm up, might hide away' ,\n",
    "         'Affectionate' : 'Loves cuddles' ,\n",
    "         \"Playful\" : 'Wants to hunt and play' ,\n",
    "         'Smart' : 'Learns quickly good at tricks' , \n",
    "         'Anxious' : 'Hides and paces around' , \n",
    "         'Angry' : 'Will hiss, growl, and bite' ,\n",
    "         'Curious' : 'Adventurous and Engageful ' ,\n",
    "         'Scared' : 'Will run away' ,\n",
    "         'Energetic' : 'Will run around and play'} \n",
    "\n"
   ]
  },
  {
   "cell_type": "markdown",
   "id": "29acc630-749d-40d0-bb0a-305e33f371f3",
   "metadata": {},
   "source": [
    "Because we want our interactions to be as random and organic as possible we will create a class that will help cat decisions! "
   ]
  },
  {
   "cell_type": "code",
   "execution_count": 7,
   "id": "587c7535-2310-4386-8cb9-4aee92cd6cb9",
   "metadata": {},
   "outputs": [],
   "source": [
    "class Cat:\n",
    "    def __init__(self,name,personality):\n",
    "        self.name = name\n",
    "        self.personality = personality\n",
    "        self.activity = 'still'\n",
    "\n",
    "    def action_choices(self):\n",
    "        '''\n",
    "        Adding the potential actions for each cat based on the personality.\n",
    "        has an added range 1 is low 5 is the highest\n",
    "        '''\n",
    "        if self.personality.get(\"Hunger\",3) > random.randomint (1,5):\n",
    "            return 'eat'\n",
    "        '''\n",
    "        Anything below 1 kitty will eat if not and above 5 \n",
    "        the kitty will go to a random other trait and move \n",
    "        on until it his still\n",
    "        '''\n",
    "        if self.personality.get(\"Sleep\",3) > random.randomint (1,5):\n",
    "            return 'sleep'\n",
    "        if self.personality.get(\"Calm\",3) > random.randomint (1,5):\n",
    "            return 'relax'\n",
    "        if self.personality.get(\"Clumsy\",3) > random.randomint (1,5):\n",
    "            return 'bump'\n",
    "\n",
    "        return 'still'\n",
    "    def __repr__(self):\n",
    "        print(f'Cat{self.name}, is {self.peronality}')"
   ]
  },
  {
   "cell_type": "markdown",
   "id": "64334d19-ba16-480f-abc6-a6b9d800a53e",
   "metadata": {},
   "source": [
    "Here you can find out who our cats are and what their personality traits are!"
   ]
  },
  {
   "cell_type": "code",
   "execution_count": 8,
   "id": "2339a621-0ee4-4700-9845-876d9e3a0648",
   "metadata": {},
   "outputs": [
    {
     "ename": "SyntaxError",
     "evalue": "incomplete input (1332472903.py, line 6)",
     "output_type": "error",
     "traceback": [
      "\u001b[0;36m  Cell \u001b[0;32mIn[8], line 6\u001b[0;36m\u001b[0m\n\u001b[0;31m    \u001b[0m\n\u001b[0m    ^\u001b[0m\n\u001b[0;31mSyntaxError\u001b[0m\u001b[0;31m:\u001b[0m incomplete input\n"
     ]
    }
   ],
   "source": [
    "cats =[ \n",
    "    Cat('Tito',{'Playful': 5, 'Affectionate': 4,' Shy': 5, 'Calm': 2, 'Curious': 3, 'Smart': 1, 'Hunger': 3, \"Sleep\": 3, \"Scared\" :4 },)\n",
    "\n",
    "\n",
    "    #Add as many personality traits as you like \n",
    "        "
   ]
  },
  {
   "cell_type": "markdown",
   "id": "fff3a487-869a-4617-bcde-56e77b8783ba",
   "metadata": {},
   "source": [
    "The start of the simulation for the visualization."
   ]
  },
  {
   "cell_type": "code",
   "execution_count": null,
   "id": "6645d2be-5db3-448f-be8a-04a0c624f08b",
   "metadata": {},
   "outputs": [],
   "source": []
  }
 ],
 "metadata": {
  "kernelspec": {
   "display_name": "Python 3.11 (default)",
   "language": "python",
   "name": "python3"
  },
  "language_info": {
   "codemirror_mode": {
    "name": "ipython",
    "version": 3
   },
   "file_extension": ".py",
   "mimetype": "text/x-python",
   "name": "python",
   "nbconvert_exporter": "python",
   "pygments_lexer": "ipython3",
   "version": "3.11.11"
  }
 },
 "nbformat": 4,
 "nbformat_minor": 5
}
